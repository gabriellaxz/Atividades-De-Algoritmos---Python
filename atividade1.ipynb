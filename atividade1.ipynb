{
 "cells": [
  {
   "cell_type": "code",
   "execution_count": 22,
   "metadata": {},
   "outputs": [
    {
     "name": "stdout",
     "output_type": "stream",
     "text": [
      "========================Detran-ipva==========================\n",
      "=====================PREENCHA OS DADOS=======================\n",
      "O carro do ano 1995 de preço: 13200.0 tem a taxa de 198.0\n"
     ]
    }
   ],
   "source": [
    "nome = str(input('Digite seu nome:'))\n",
    "ano = int(input('Digite o ano do carro:'))\n",
    "preço = float(input('Digite o valor do carro:'))\n",
    "\n",
    "if(preço < 1990):\n",
    "    resultado = (1/100) * preço\n",
    "elif(preço >= 1990):\n",
    "    resultado = (1.5/100) * preço\n",
    "\n",
    "print(f'{nome}, o carro de ano: {ano}, contém uma taxa de:{resultado}')\n",
    "\n",
    "                 "
   ]
  },
  {
   "cell_type": "code",
   "execution_count": 22,
   "metadata": {},
   "outputs": [
    {
     "name": "stdout",
     "output_type": "stream",
     "text": [
      "heytor, seu salário antigo:1000.0, salário novo:1400.0, a diferença é:400.0\n"
     ]
    }
   ],
   "source": [
    "nome = input('Digite seu nome:')\n",
    "salario = float(input('Digite seu salário:')) #Usuário digita o salário\n",
    "cargo = str(input('Digite seu cargo ou código:'))  #Usuário digita o cargo ou código                                          \n",
    "\n",
    "if(cargo == 'Gerente') or (cargo == 'gerente') or (cargo == 'GERENTE') or (cargo == '101'): #Se o usuário for gerente aumento em 10%\n",
    "    novosalario = (10/100 * salario) + salario\n",
    "elif(cargo == 'Engenheiro') or (cargo == 'engenheiro') or (cargo == 'ENGENHEIRO') or (cargo == '102'): #Se o usuário for engenheiro aumento em 12%\n",
    "    novosalario = (20/100 * salario) + salario\n",
    "elif(cargo == 'Técnico') or (cargo == 'técnico') or (cargo == 'TÉCNICO') or (cargo == 'TECNICO') or (cargo == 'tecnico') or (cargo == '102'): #Se o usuário for tecnico aumento em 30%\n",
    "    novosalario = (30/100 * salario) + salario\n",
    "else:\n",
    "    novosalario = (40/100 * salario) + salario #Se o usuário não for nenhum dos cargos acima gente aumento em 40%\n",
    "\n",
    "print(f'{nome}, seu salário antigo:{salario}, salário novo:{novosalario}, a diferença é:{novosalario - salario}')"
   ]
  }
 ],
 "metadata": {
  "kernelspec": {
   "display_name": "Python 3",
   "language": "python",
   "name": "python3"
  },
  "language_info": {
   "codemirror_mode": {
    "name": "ipython",
    "version": 3
   },
   "file_extension": ".py",
   "mimetype": "text/x-python",
   "name": "python",
   "nbconvert_exporter": "python",
   "pygments_lexer": "ipython3",
   "version": "3.12.3"
  }
 },
 "nbformat": 4,
 "nbformat_minor": 2
}
