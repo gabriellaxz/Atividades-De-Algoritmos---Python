{
 "cells": [
  {
   "cell_type": "code",
   "execution_count": 1,
   "metadata": {},
   "outputs": [
    {
     "data": {
      "text/plain": [
       "3"
      ]
     },
     "execution_count": 1,
     "metadata": {},
     "output_type": "execute_result"
    }
   ],
   "source": [
    "#estrutura de dados\n",
    "dias = [3,1,10]\n",
    "dias[0]"
   ]
  },
  {
   "cell_type": "code",
   "execution_count": 3,
   "metadata": {},
   "outputs": [
    {
     "data": {
      "text/plain": [
       "1"
      ]
     },
     "execution_count": 3,
     "metadata": {},
     "output_type": "execute_result"
    }
   ],
   "source": [
    "dias[1]"
   ]
  },
  {
   "cell_type": "code",
   "execution_count": 4,
   "metadata": {},
   "outputs": [
    {
     "data": {
      "text/plain": [
       "10"
      ]
     },
     "execution_count": 4,
     "metadata": {},
     "output_type": "execute_result"
    }
   ],
   "source": [
    "dias[2]"
   ]
  },
  {
   "cell_type": "code",
   "execution_count": 1,
   "metadata": {},
   "outputs": [
    {
     "data": {
      "text/plain": [
       "[7, 8, 9]"
      ]
     },
     "execution_count": 1,
     "metadata": {},
     "output_type": "execute_result"
    }
   ],
   "source": [
    "#modificando a lista\n",
    "Z = [3,8,9]\n",
    "Z[0] = 7\n",
    "Z"
   ]
  },
  {
   "cell_type": "code",
   "execution_count": 6,
   "metadata": {},
   "outputs": [],
   "source": [
    "V = [6,7,5, 8, 9]\n",
    "L = [6,7,5, 8, 9]"
   ]
  },
  {
   "cell_type": "code",
   "execution_count": 7,
   "metadata": {},
   "outputs": [
    {
     "name": "stdout",
     "output_type": "stream",
     "text": [
      "True\n",
      "True\n",
      "[5, 7, 5, 8, 9]\n",
      "[5, 7, 5, 8, 9]\n"
     ]
    }
   ],
   "source": [
    "L = V\n",
    "print(V == L) #comparando o conteúdo\n",
    "print(V is L) #se eles são o mesmo objeto\n",
    "V[0] = 5\n",
    "print(V)\n",
    "print(L)"
   ]
  },
  {
   "cell_type": "code",
   "execution_count": 5,
   "metadata": {},
   "outputs": [
    {
     "name": "stdout",
     "output_type": "stream",
     "text": [
      "True\n",
      "False\n",
      "[81, 82, 83]\n",
      "[5, 82, 83]\n"
     ]
    }
   ],
   "source": [
    "#clonando lista\n",
    "a = [81,82,83]\n",
    "b = a[:] #cria um clone com fatia\n",
    "print(a==b)\n",
    "print(a is b)\n",
    "b[0] = 5\n",
    "print(a)\n",
    "print(b)"
   ]
  },
  {
   "cell_type": "code",
   "execution_count": 8,
   "metadata": {},
   "outputs": [
    {
     "name": "stdout",
     "output_type": "stream",
     "text": [
      "['b', 'c']\n",
      "['a', 'b', 'c', 'd']\n",
      "['d', 'e', 'f']\n",
      "['a', 'b', 'c', 'd', 'e', 'f']\n"
     ]
    }
   ],
   "source": [
    "uma_lista = ['a', 'b', 'c', 'd','e','f']\n",
    "print(uma_lista[1:3]) #intervalo fechado\n",
    "print(uma_lista[:4]) #indice 0 até o 3\n",
    "print(uma_lista[3:]) #indice 3 até o final da lista\n",
    "print(uma_lista[:]) #todos os indices"
   ]
  },
  {
   "cell_type": "code",
   "execution_count": 43,
   "metadata": {},
   "outputs": [],
   "source": [
    "minhaLista = [76,92.3,\"oi\",True,4,76]\n",
    "listaNova = [\"Pitomba\", 76]\n",
    "novaLista = (minhaLista + listaNova)"
   ]
  },
  {
   "cell_type": "code",
   "execution_count": 40,
   "metadata": {},
   "outputs": [
    {
     "name": "stdout",
     "output_type": "stream",
     "text": [
      "[76, 92.3, 'oi', 'cibele', True, 4, 76, 'Pitomba', 76]\n"
     ]
    }
   ],
   "source": [
    "print(novaLista[:3]+[\"cibele\"]+novaLista[3:])\n",
    "minhaLista [3] = \"cibele\""
   ]
  },
  {
   "cell_type": "code",
   "execution_count": 44,
   "metadata": {},
   "outputs": [
    {
     "name": "stdout",
     "output_type": "stream",
     "text": [
      "[99, 92.3, 'oi', True, 4, 76]\n"
     ]
    }
   ],
   "source": [
    "minhaLista [0] =  99\n",
    "print(minhaLista)"
   ]
  },
  {
   "cell_type": "code",
   "execution_count": 42,
   "metadata": {},
   "outputs": [
    {
     "name": "stdout",
     "output_type": "stream",
     "text": [
      "Oi foi encontrado no índice 2\n"
     ]
    }
   ],
   "source": [
    "minhaLista= [76,92.3,'oi',True,4,76]\n",
    "if minhaLista[0] == 'oi':\n",
    "    print('Oi foi encontrado no índice 0')\n",
    "elif minhaLista[1] == 'oi':\n",
    "    print('Oi foi encontrado no índice 1')\n",
    "elif minhaLista[2] == 'oi':\n",
    "    print('Oi foi encontrado no índice 2')\n",
    "elif minhaLista[3] == 'oi':\n",
    "    print('Oi foi encontrado no índice 3')\n",
    "elif minhaLista[4] == 'oi':\n",
    "    print('Oi foi encontrado no índice 4')\n",
    "elif minhaLista[5] == 'oi':\n",
    "    print('Oi foi encontrado no índice 5')\n",
    "else:\n",
    "    print('Oi não foi encontrado em nenhum índice :)')\n",
    "\n"
   ]
  },
  {
   "cell_type": "code",
   "execution_count": 54,
   "metadata": {},
   "outputs": [
    {
     "name": "stdout",
     "output_type": "stream",
     "text": [
      "[76, 92.3, 'oi', 4, 76]\n"
     ]
    }
   ],
   "source": [
    "minha_lista = [76, 92.3, \"oi\", True, 4, 76]\n",
    "nova_lista = [4, 76]\n",
    "print(minha_lista[:3] + nova_lista)"
   ]
  },
  {
   "cell_type": "code",
   "execution_count": 45,
   "metadata": {},
   "outputs": [
    {
     "name": "stdout",
     "output_type": "stream",
     "text": [
      "0\n",
      "1\n"
     ]
    }
   ],
   "source": [
    "tupla_nomes = ('Marlene', 'Zezinho', 'Marlene', 'Cibele','Zuely')\n",
    "tupla_nomes.count('Marlene')\n",
    "print(tupla_nomes.count('Suely'))\n",
    "print(tupla_nomes.count('Zezinho'))"
   ]
  },
  {
   "cell_type": "code",
   "execution_count": 53,
   "metadata": {},
   "outputs": [
    {
     "name": "stdout",
     "output_type": "stream",
     "text": [
      "3\n"
     ]
    }
   ],
   "source": [
    "tupla = (1,2,2,3,4,4,4,5)\n",
    "print(tupla.count(4))"
   ]
  }
 ],
 "metadata": {
  "kernelspec": {
   "display_name": "Python 3",
   "language": "python",
   "name": "python3"
  },
  "language_info": {
   "codemirror_mode": {
    "name": "ipython",
    "version": 3
   },
   "file_extension": ".py",
   "mimetype": "text/x-python",
   "name": "python",
   "nbconvert_exporter": "python",
   "pygments_lexer": "ipython3",
   "version": "3.12.3"
  }
 },
 "nbformat": 4,
 "nbformat_minor": 2
}
