{
 "cells": [
  {
   "cell_type": "code",
   "execution_count": 1,
   "metadata": {},
   "outputs": [
    {
     "name": "stdout",
     "output_type": "stream",
     "text": [
      "O valor da taxa do carro do ano de 1900 de valor 1200.0 é: 12.0 \n"
     ]
    }
   ],
   "source": [
    "ano = int(input(\"Digite o ano do seu carro: \"))\n",
    "preco = float(input(\"Digite o preço do carro: \"))\n",
    "#comece a condicional para descobrir a taxa do usuário\n",
    "if (ano < 1990):\n",
    "    taxa = (0.01 * preco) #1% sobre o valor do carro\n",
    "elif (ano >= 1990):\n",
    "    taxa = (0.015 * preco)\n",
    "print(f\"O valor da taxa do carro do ano de {ano} de valor {preco} é: {taxa} \")"
   ]
  },
  {
   "cell_type": "code",
   "execution_count": 5,
   "metadata": {},
   "outputs": [
    {
     "name": "stdout",
     "output_type": "stream",
     "text": [
      "gabriella com o cargo gerente e o salário atual: 100.0 \n",
      "Novo salário 110.0 \n",
      "Diferença entre o antigo salário e tual: 10.0\n"
     ]
    }
   ],
   "source": [
    "nome = input(\"Digite seu nome: \")\n",
    "salario = float(input(\"Digite seu salário: \"))\n",
    "cargo = input(\"Digite o nome do cargo no trabalho ou o código: \")\n",
    "\n",
    "#verificar o cargo dentro da tabela\n",
    "\n",
    "if cargo == 'Gerente' or cargo == 'gerente' or cargo == '101' or cargo == 'GERENTE': #verificaçao do cargo capturandando maisculo e minusculo ou o  código do cargo\n",
    "    novo_salario = (0.1 * salario) + salario\n",
    "\n",
    "elif cargo == 'Engenheiro'or cargo == 'engenheiro'or cargo == '102' or cargo == 'ENGENHEIRO' or cargo == 'Engenheira'or cargo == 'engenheira'or cargo == '102' or cargo == 'ENGENHEIRA' :\n",
    "    novo_salario = (0.2 * salario) + salario\n",
    "    \n",
    "elif cargo == 'Técnico' or cargo == 'técnico'or cargo == '103'or cargo == 'TÉCNICO' or cargo == 'tecnico' or cargo == 'Tecnico'or cargo == 'Técnica' or cargo == 'técnica'or cargo == '103'or cargo == 'TÉCNICA' or cargo == 'tecnica' or cargo == 'Tecnica':\n",
    "    novo_salario = (0.3 * salario) + salario\n",
    "else:\n",
    "    novo_salario = (0.4 * salario) + salario #caso o cargo n esteja entre as opcoes, o usuário receberá 40% de aumento\n",
    " \n",
    "print(f'{nome} com o cargo {cargo} e o salário atual: {salario} \\nNovo salário {novo_salario} \\nDiferença entre o antigo salário e tual: {novo_salario - salario}')"
   ]
  }
 ],
 "metadata": {
  "kernelspec": {
   "display_name": "Python 3",
   "language": "python",
   "name": "python3"
  },
  "language_info": {
   "codemirror_mode": {
    "name": "ipython",
    "version": 3
   },
   "file_extension": ".py",
   "mimetype": "text/x-python",
   "name": "python",
   "nbconvert_exporter": "python",
   "pygments_lexer": "ipython3",
   "version": "3.12.3"
  }
 },
 "nbformat": 4,
 "nbformat_minor": 2
}
