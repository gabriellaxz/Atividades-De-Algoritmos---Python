{
 "cells": [
  {
   "cell_type": "code",
   "execution_count": 1,
   "metadata": {},
   "outputs": [
    {
     "name": "stdout",
     "output_type": "stream",
     "text": [
      "É uma consoante.\n"
     ]
    }
   ],
   "source": [
    "#1 Verificar se uma letra é vogal ou consoante:\n",
    "letra = input(\"Digite uma letra: \").lower()\n",
    "\n",
    "if letra in 'aeiou':\n",
    "    print(\"É uma vogal.\")\n",
    "else:\n",
    "    print(\"É uma consoante.\")\n"
   ]
  },
  {
   "cell_type": "code",
   "execution_count": 2,
   "metadata": {},
   "outputs": [
    {
     "name": "stdout",
     "output_type": "stream",
     "text": [
      "Você deve comprar o produto com preço R$ 21.0\n"
     ]
    }
   ],
   "source": [
    "#2 Comparar preços de três produtos e informar o mais barato:\n",
    "preco1 = float(input(\"Digite o preço do primeiro produto: \"))\n",
    "preco2 = float(input(\"Digite o preço do segundo produto: \"))\n",
    "preco3 = float(input(\"Digite o preço do terceiro produto: \"))\n",
    "\n",
    "menor_preco = min(preco1, preco2, preco3)\n",
    "\n",
    "print(\"Você deve comprar o produto com preço R$\", menor_preco)\n"
   ]
  },
  {
   "cell_type": "code",
   "execution_count": 3,
   "metadata": {},
   "outputs": [
    {
     "name": "stdout",
     "output_type": "stream",
     "text": [
      "Os números em ordem crescente são: [1.0, 2.0, 3.0]\n"
     ]
    }
   ],
   "source": [
    "#3 Ordenar\n",
    "num1 = float(input(\"Digite o primeiro número: \"))\n",
    "num2 = float(input(\"Digite o segundo número: \"))\n",
    "num3 = float(input(\"Digite o terceiro número: \"))\n",
    "\n",
    "numeros = [num1, num2, num3]\n",
    "numeros.sort()\n",
    "\n",
    "print(\"Os números em ordem crescente são:\", numeros)\n"
   ]
  },
  {
   "cell_type": "code",
   "execution_count": 4,
   "metadata": {},
   "outputs": [
    {
     "name": "stdout",
     "output_type": "stream",
     "text": [
      "Bom dia!\n"
     ]
    }
   ],
   "source": [
    "#4 Verificar o turno de estudo:\n",
    "turno = input(\"Digite o turno em que você estuda (M-matutino, V-vespertino ou N-noturno): \").upper()\n",
    "\n",
    "if turno == 'M':\n",
    "    print(\"Bom dia!\")\n",
    "elif turno == 'V':\n",
    "    print(\"Boa tarde!\")\n",
    "elif turno == 'N':\n",
    "    print(\"Boa noite!\")\n",
    "else:\n",
    "    print(\"Turno inválido.\")"
   ]
  },
  {
   "cell_type": "code",
   "execution_count": 5,
   "metadata": {},
   "outputs": [
    {
     "name": "stdout",
     "output_type": "stream",
     "text": [
      "O dia correspondente é Sábado\n"
     ]
    }
   ],
   "source": [
    "#5 Ler um número e exibir o dia correspondente da semana:\n",
    "numero = int(input(\"Digite um número de 1 a 7: \"))\n",
    "\n",
    "dias_semana = ['Domingo', 'Segunda-feira', 'Terça-feira', 'Quarta-feira', 'Quinta-feira', 'Sexta-feira', 'Sábado']\n",
    "\n",
    "if 1 <= numero <= 7:\n",
    "    print(\"O dia correspondente é\", dias_semana[numero - 1])\n",
    "else:\n",
    "    print(\"Número inválido. Digite um número entre 1 e 7.\")\n"
   ]
  },
  {
   "cell_type": "code",
   "execution_count": 6,
   "metadata": {},
   "outputs": [
    {
     "name": "stdout",
     "output_type": "stream",
     "text": [
      "Conceito B - Aprovado\n"
     ]
    }
   ],
   "source": [
    "# 6 media aluno\n",
    "soma_notas = 0\n",
    "for i in range(2):\n",
    "    nota = float(input(f'Digite a sua {i+1}ª nota: '))\n",
    "    soma_notas += nota\n",
    "\n",
    "media = soma_notas / 2\n",
    "\n",
    "if media >= 9:\n",
    "    print('Conceito A - Aprovado')\n",
    "elif media >= 7.5:\n",
    "    print('Conceito B - Aprovado')\n",
    "elif media >= 6:\n",
    "    print('Conceito C - Aprovado')\n",
    "elif media >= 4:\n",
    "    print('Conceito D - Reprovado')\n",
    "else:\n",
    "    print('Conceito E - Reprovado')\n"
   ]
  },
  {
   "cell_type": "code",
   "execution_count": 7,
   "metadata": {},
   "outputs": [
    {
     "name": "stdout",
     "output_type": "stream",
     "text": [
      "O ano 2024 é bissexto.\n"
     ]
    }
   ],
   "source": [
    "# 7 Verificar se um ano é bissexto\n",
    "ano = int(input(\"Digite um ano: \"))\n",
    "\n",
    "if (ano % 4 == 0 and ano % 100 != 0) or (ano % 400 == 0):\n",
    "    print(\"O ano\", ano, \"é bissexto.\")\n",
    "else:\n",
    "    print(\"O ano\", ano, \"não é bissexto.\")\n"
   ]
  },
  {
   "cell_type": "code",
   "execution_count": 8,
   "metadata": {},
   "outputs": [
    {
     "name": "stdout",
     "output_type": "stream",
     "text": [
      "O resultado da operação é: 47.0\n"
     ]
    }
   ],
   "source": [
    "#8 \n",
    "num1 = float(input(\"Digite o primeiro número: \"))\n",
    "num2 = float(input(\"Digite o segundo número: \"))\n",
    "\n",
    "operacao = input(\"Qual operação deseja realizar? (soma, subtração, multiplicação, divisão, exponenciação): \")\n",
    "\n",
    "if operacao == \"soma\":\n",
    "    resultado = num1 + num2\n",
    "elif operacao == \"subtração\":\n",
    "    resultado = num1 - num2\n",
    "elif operacao == \"multiplicação\":\n",
    "    resultado = num1 * num2\n",
    "elif operacao == \"divisão\":\n",
    "    if num2 != 0:\n",
    "        resultado = num1 / num2\n",
    "    else:\n",
    "        print(\"Não é possível dividir por zero.\")\n",
    "elif operacao == \"exponenciação\":\n",
    "    resultado = num1 ** num2\n",
    "else:\n",
    "    print(\"Operação inválida.\")\n",
    "\n",
    "print(\"O resultado da operação é:\", resultado)\n"
   ]
  },
  {
   "cell_type": "code",
   "execution_count": 9,
   "metadata": {},
   "outputs": [
    {
     "name": "stdout",
     "output_type": "stream",
     "text": [
      "Idade válida: 17\n"
     ]
    }
   ],
   "source": [
    "#9 Verificar idade entre 0 e 150:\n",
    "idade = int(input(\"Digite a idade: \"))\n",
    "\n",
    "if 0 <= idade <= 150:\n",
    "    print(\"Idade válida:\", idade)\n",
    "else:\n",
    "    print(\"Idade inválida. A idade deve estar entre 0 e 150 anos.\")\n"
   ]
  },
  {
   "cell_type": "code",
   "execution_count": 10,
   "metadata": {},
   "outputs": [
    {
     "name": "stdout",
     "output_type": "stream",
     "text": [
      "1 não é um número primo.\n"
     ]
    }
   ],
   "source": [
    "#10 Verificar se um número inteiro é primo\n",
    "num = int(input(\"Digite um número inteiro: \"))\n",
    "\n",
    "# Um número primo é aquele que é divisível apenas por 1 e por ele mesmo\n",
    "# verificar se o número tem exatamente 2 divisores\n",
    "# Se tiver, é primo\n",
    "\n",
    "divisores = 0\n",
    "for i in range(1, num + 1):\n",
    "    if num % i == 0:\n",
    "        divisores += 1\n",
    "\n",
    "# Se tiver apenas dois divisores (1 e ele mesmo), é primo\n",
    "if divisores == 2:\n",
    "    print(num, \"é um número primo.\")\n",
    "else:\n",
    "    print(num, \"não é um número primo.\")\n"
   ]
  },
  {
   "cell_type": "code",
   "execution_count": 11,
   "metadata": {},
   "outputs": [
    {
     "name": "stdout",
     "output_type": "stream",
     "text": [
      "Menor temperatura: 5.0\n",
      "Maior temperatura: 30.0\n",
      "Temperatura média: 18.6\n"
     ]
    }
   ],
   "source": [
    "#12 Ler 5 temperaturas e calcular a média, a menor e a maior temperatura:\n",
    "temperaturas = []\n",
    "\n",
    "for i in range(5):\n",
    "    temperatura = float(input(f\"Digite a temperatura {i+1}: \"))\n",
    "    temperaturas.append(temperatura)\n",
    "\n",
    "menor_temp = min(temperaturas)\n",
    "maior_temp = max(temperaturas)\n",
    "media = sum(temperaturas) / len(temperaturas)\n",
    "\n",
    "print(\"Menor temperatura:\", menor_temp)\n",
    "print(\"Maior temperatura:\", maior_temp)\n",
    "print(\"Temperatura média:\", media)\n"
   ]
  },
  {
   "cell_type": "code",
   "execution_count": 12,
   "metadata": {},
   "outputs": [
    {
     "name": "stdout",
     "output_type": "stream",
     "text": [
      "Saldo médio: 300.0\n",
      "Valor do crédito: 60.0\n"
     ]
    }
   ],
   "source": [
    "#13 Calcular o valor do crédito de acordo com o saldo médio:\n",
    "saldo_medio = float(input(\"Digite o saldo médio: \"))\n",
    "\n",
    "if saldo_medio <= 200:\n",
    "    credito = 0\n",
    "elif saldo_medio <= 400:\n",
    "    credito = saldo_medio * 0.2\n",
    "elif saldo_medio <= 600:\n",
    "    credito = saldo_medio * 0.3\n",
    "else:\n",
    "    credito = saldo_medio * 0.4\n",
    "\n",
    "print(\"Saldo médio:\", saldo_medio)\n",
    "print(\"Valor do crédito:\", credito)\n"
   ]
  },
  {
   "cell_type": "code",
   "execution_count": 16,
   "metadata": {},
   "outputs": [
    {
     "name": "stdout",
     "output_type": "stream",
     "text": [
      "julia, você poderá se aposentar em 2071.\n"
     ]
    }
   ],
   "source": [
    "#14 Mostrar ao usuário ano que ele podera se aposentar\n",
    "nome = input(\"Digite seu nome: \")\n",
    "idade = int(input(\"Digite sua idade: \"))\n",
    "\n",
    "# Ano atual\n",
    "ano_atual = 2024\n",
    "\n",
    "# Idade de aposentadoria\n",
    "idade_aposentadoria = 65\n",
    "\n",
    "# Calcula o ano de aposentadoria\n",
    "ano_aposentadoria = ano_atual + (idade_aposentadoria - idade)\n",
    "\n",
    "# Verifica se a pessoa já pode se aposentar\n",
    "if idade >= idade_aposentadoria:\n",
    "    print(f\"{nome}, você já pode se aposentar!\")\n",
    "else:\n",
    "    print(f\"{nome}, você poderá se aposentar em {ano_aposentadoria}.\")\n"
   ]
  },
  {
   "cell_type": "code",
   "execution_count": null,
   "metadata": {},
   "outputs": [],
   "source": []
  }
 ],
 "metadata": {
  "kernelspec": {
   "display_name": "Python 3",
   "language": "python",
   "name": "python3"
  },
  "language_info": {
   "codemirror_mode": {
    "name": "ipython",
    "version": 3
   },
   "file_extension": ".py",
   "mimetype": "text/x-python",
   "name": "python",
   "nbconvert_exporter": "python",
   "pygments_lexer": "ipython3",
   "version": "3.12.2"
  }
 },
 "nbformat": 4,
 "nbformat_minor": 2
}
