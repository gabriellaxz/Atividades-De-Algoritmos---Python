{
 "cells": [
  {
   "cell_type": "code",
   "execution_count": 9,
   "metadata": {},
   "outputs": [
    {
     "name": "stdout",
     "output_type": "stream",
     "text": [
      "5 patinhos foram passear \n",
      "Além das montanhas para brincar \n",
      "A mamãe gritou quá quá quá\n",
      "Mas só 1 patinhos voltaram de lá\n",
      "5 patinhos foram passear \n",
      "Além das montanhas para brincar \n",
      "A mamãe gritou quá quá quá\n",
      "Mas só 2 patinhos voltaram de lá\n",
      "5 patinhos foram passear \n",
      "Além das montanhas para brincar \n",
      "A mamãe gritou quá quá quá\n",
      "Mas só 3 patinhos voltaram de lá\n",
      "5 patinhos foram passear \n",
      "Além das montanhas para brincar \n",
      "A mamãe gritou quá quá quá\n",
      "Mas só 4 patinhos voltaram de lá\n",
      "5 patinhos foram passear \n",
      "Além das montanhas para brincar \n",
      "A mamãe gritou quá quá quá\n",
      "Mas só 5 patinhos voltaram de lá\n"
     ]
    }
   ],
   "source": [
    "patinhos = [1, 2, 3, 4, 5]\n",
    "ida = 0\n",
    "for x in range (len(patinhos)):\n",
    "    voltaram = patinhos[x] - ida\n",
    "    print(f'{len(patinhos)} patinhos foram passear \\nAlém das montanhas para brincar \\nA mamãe gritou quá quá quá')\n",
    "    print (f'Mas só {voltaram} patinhos voltaram de lá')\n",
    "    \n"
   ]
  },
  {
   "cell_type": "code",
   "execution_count": 28,
   "metadata": {},
   "outputs": [
    {
     "name": "stdout",
     "output_type": "stream",
     "text": [
      "1 Elefante incomodam muita gente\n",
      "2 Elefantes incomodam muita gente, 4 Elefantes incomodam incomodam  muito mais\n",
      "3 Elefante incomodam muita gente\n",
      "4 Elefantes incomodam muita gente, 8 Elefantes incomodam incomodam incomodam incomodam  muito mais\n",
      "5 Elefante incomodam muita gente\n",
      "6 Elefantes incomodam muita gente, 12 Elefantes incomodam incomodam incomodam incomodam incomodam incomodam  muito mais\n",
      "7 Elefante incomodam muita gente\n",
      "8 Elefantes incomodam muita gente, 16 Elefantes incomodam incomodam incomodam incomodam incomodam incomodam incomodam incomodam  muito mais\n",
      "9 Elefante incomodam muita gente\n",
      "10 Elefantes incomodam muita gente, 20 Elefantes incomodam incomodam incomodam incomodam incomodam incomodam incomodam incomodam incomodam incomodam  muito mais\n"
     ]
    }
   ],
   "source": [
    "elefantes = 0\n",
    "\n",
    "while True:\n",
    "    elefantes +=1\n",
    "    if (elefantes %2 == 0):\n",
    "        print(f'{elefantes} Elefantes incomodam muita gente, {elefantes * 2} Elefantes {'incomodam '* elefantes} muito mais')\n",
    "    elif elefantes <= 1:\n",
    "        print(f'{elefantes} Elefante incomodam muita gente')\n",
    "    else:\n",
    "        print(f'{elefantes} Elefante incomodam muita gente')\n",
    "    \n",
    "    if elefantes == 10:\n",
    "         break\n",
    "    else:\n",
    "       False\n",
    "\n"
   ]
  },
  {
   "cell_type": "code",
   "execution_count": 32,
   "metadata": {},
   "outputs": [
    {
     "name": "stdout",
     "output_type": "stream",
     "text": [
      "Mariana conta 1\n",
      "Mariana conta 2\n",
      "Mariana conta 3\n",
      "Mariana conta 4\n",
      "Mariana conta 5\n",
      "Mariana conta 6\n",
      "Mariana conta 7\n",
      "Mariana conta 8\n",
      "Mariana conta 9\n",
      "Mariana conta 10\n"
     ]
    }
   ],
   "source": [
    "conta = [1,2,3,4,5,6,7,8,9,10]\n",
    "\n",
    "while True:\n",
    "    conta += 1\n",
    "    if conta == 1:\n",
    "        print(f'Mariana conta {conta}')\n",
    "    elif conta > 1:\n",
    "        print(f'Mariana conta {conta}')\n",
    "        \n",
    "    if conta == 10:\n",
    "        break\n",
    "    else:\n",
    "        False\n",
    "    "
   ]
  }
 ],
 "metadata": {
  "kernelspec": {
   "display_name": "Python 3",
   "language": "python",
   "name": "python3"
  },
  "language_info": {
   "codemirror_mode": {
    "name": "ipython",
    "version": 3
   },
   "file_extension": ".py",
   "mimetype": "text/x-python",
   "name": "python",
   "nbconvert_exporter": "python",
   "pygments_lexer": "ipython3",
   "version": "3.12.3"
  }
 },
 "nbformat": 4,
 "nbformat_minor": 2
}
