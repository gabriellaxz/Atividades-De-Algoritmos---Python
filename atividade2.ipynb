{
 "cells": [
  {
   "cell_type": "code",
   "execution_count": 2,
   "metadata": {},
   "outputs": [],
   "source": [
    "valor1 = int(input(\"Digite um número inteiro: \"))\n",
    "valor2 = int(input(\"Digite outro número inteiro: \"))"
   ]
  },
  {
   "cell_type": "code",
   "execution_count": 3,
   "metadata": {},
   "outputs": [
    {
     "name": "stdout",
     "output_type": "stream",
     "text": [
      "False\n",
      "False\n",
      "True\n",
      "False\n",
      "True\n"
     ]
    }
   ],
   "source": [
    "print(valor1 == valor2)\n",
    "print(valor1 > valor2)\n",
    "print(valor1 < valor2)\n",
    "print(valor1>=valor2)\n",
    "print(valor1<=valor2)\n"
   ]
  },
  {
   "cell_type": "code",
   "execution_count": 5,
   "metadata": {},
   "outputs": [
    {
     "name": "stdout",
     "output_type": "stream",
     "text": [
      "o número é par :)\n"
     ]
    }
   ],
   "source": [
    "num = int(input(\"digite um número inteiro: \"))\n",
    "if (num % 2 == 0):\n",
    "    print(\"o número é par :)\")\n",
    "else:\n",
    "    print(\"Número impar :(\")0"
   ]
  },
  {
   "cell_type": "code",
   "execution_count": null,
   "metadata": {},
   "outputs": [],
   "source": [
    "cupom = input(\"Digite o cupom: \")\n",
    "if (cupom == 'aula1' or cupom== 'aula2'):\n",
    "    print('você ganhou 10% de desconto')\n",
    "else:\n",
    "    print('cupom inválido')"
   ]
  }
 ],
 "metadata": {
  "kernelspec": {
   "display_name": "Python 3",
   "language": "python",
   "name": "python3"
  },
  "language_info": {
   "codemirror_mode": {
    "name": "ipython",
    "version": 3
   },
   "file_extension": ".py",
   "mimetype": "text/x-python",
   "name": "python",
   "nbconvert_exporter": "python",
   "pygments_lexer": "ipython3",
   "version": "3.12.3"
  }
 },
 "nbformat": 4,
 "nbformat_minor": 2
}
